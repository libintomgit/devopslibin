{
 "cells": [
  {
   "cell_type": "markdown",
   "metadata": {},
   "source": [
    "# Nested Statement and Scope"
   ]
  },
  {
   "cell_type": "code",
   "execution_count": 1,
   "metadata": {},
   "outputs": [
    {
     "name": "stdout",
     "output_type": "stream",
     "text": [
      "25\n"
     ]
    }
   ],
   "source": [
    "x = 25\n",
    "\n",
    "def printer():\n",
    "    x = 100 \n",
    "    # Scope of variable x is limited to printer Function, if You try to call value of x outside the funtion, it \n",
    "    # will Show 25.\n",
    "    return x\n",
    "\n",
    "print(x)"
   ]
  },
  {
   "cell_type": "code",
   "execution_count": 2,
   "metadata": {},
   "outputs": [
    {
     "data": {
      "text/plain": [
       "100"
      ]
     },
     "execution_count": 2,
     "metadata": {},
     "output_type": "execute_result"
    }
   ],
   "source": [
    "printer()"
   ]
  },
  {
   "cell_type": "code",
   "execution_count": 6,
   "metadata": {},
   "outputs": [
    {
     "name": "stdout",
     "output_type": "stream",
     "text": [
      "hello John\n"
     ]
    }
   ],
   "source": [
    "name = 'This ia a global Variable'\n",
    "\n",
    "def greeting():\n",
    "    name = 'John'\n",
    "    \n",
    "    def say_hello():\n",
    "        print('hello '+ name) \n",
    "    \n",
    "    say_hello()\n",
    "    \n",
    "greeting()"
   ]
  },
  {
   "cell_type": "code",
   "execution_count": 7,
   "metadata": {},
   "outputs": [
    {
     "name": "stdout",
     "output_type": "stream",
     "text": [
      "This ia a global Variable\n"
     ]
    }
   ],
   "source": [
    "print(name)"
   ]
  },
  {
   "cell_type": "code",
   "execution_count": 8,
   "metadata": {},
   "outputs": [
    {
     "name": "stdout",
     "output_type": "stream",
     "text": [
      "x is: 40\n",
      "changed value of x: 20\n",
      "x is still 40\n"
     ]
    }
   ],
   "source": [
    "x = 40\n",
    "\n",
    "def function(x):\n",
    "    print('x is:',x)\n",
    "    x = 20\n",
    "    print('changed value of x:', x)\n",
    "    \n",
    "function(x)\n",
    "\n",
    "print('x is still', x)"
   ]
  },
  {
   "cell_type": "code",
   "execution_count": 12,
   "metadata": {},
   "outputs": [
    {
     "name": "stdout",
     "output_type": "stream",
     "text": [
      "Before calling function(), x is : 60\n",
      "This Functions is now using gobal value of x!\n",
      "Because oof global x is  60\n",
      "After Running function(), x is: 2\n",
      "value of x ooutside the functions() is: 2\n"
     ]
    }
   ],
   "source": [
    "x = 60\n",
    "\n",
    "def function():\n",
    "    global x\n",
    "    print('This Functions is now using gobal value of x!')\n",
    "    print('Because oof global x is ', x)\n",
    "    x = 2\n",
    "    print('After Running function(), x is:', x)\n",
    "    \n",
    "print('Before calling function(), x is :', x)\n",
    "function()\n",
    "print('value of x ooutside the functions() is:', x)"
   ]
  },
  {
   "cell_type": "code",
   "execution_count": 13,
   "metadata": {},
   "outputs": [
    {
     "name": "stdout",
     "output_type": "stream",
     "text": [
      "2\n"
     ]
    }
   ],
   "source": [
    "print(x)"
   ]
  },
  {
   "cell_type": "code",
   "execution_count": null,
   "metadata": {},
   "outputs": [],
   "source": []
  }
 ],
 "metadata": {
  "kernelspec": {
   "display_name": "Python 3",
   "language": "python",
   "name": "python3"
  },
  "language_info": {
   "codemirror_mode": {
    "name": "ipython",
    "version": 3
   },
   "file_extension": ".py",
   "mimetype": "text/x-python",
   "name": "python",
   "nbconvert_exporter": "python",
   "pygments_lexer": "ipython3",
   "version": "3.7.6"
  }
 },
 "nbformat": 4,
 "nbformat_minor": 4
}
