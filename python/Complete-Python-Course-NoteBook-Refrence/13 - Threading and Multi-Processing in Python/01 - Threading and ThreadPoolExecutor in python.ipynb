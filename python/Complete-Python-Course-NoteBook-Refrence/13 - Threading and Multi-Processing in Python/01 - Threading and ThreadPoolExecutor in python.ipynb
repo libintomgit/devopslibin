{
 "cells": [
  {
   "cell_type": "markdown",
   "metadata": {},
   "source": [
    "# Threading in Python"
   ]
  },
  {
   "cell_type": "markdown",
   "metadata": {},
   "source": [
    "Why we want to use Threading?\n",
    "\n",
    "Basically when we want to speed up our Programs, and this speed up comes when we run different task concurrently.\n",
    "So speed up is not always guarenteed, it depends on what task you are performing.\n",
    "\n",
    "First, we will use sleep method from time module to get a good idea on how threading can improve our code.\n",
    "\n",
    "Let's start"
   ]
  },
  {
   "cell_type": "code",
   "execution_count": 1,
   "metadata": {},
   "outputs": [
    {
     "name": "stdout",
     "output_type": "stream",
     "text": [
      "Sleeping for 1 Second..\n",
      "\n",
      "Done with sleeping\n",
      "\n",
      "Finished in 1.0 second(s)\n"
     ]
    }
   ],
   "source": [
    "import time\n",
    "\n",
    "start = time.perf_counter()\n",
    "\n",
    "def do_something():\n",
    "    print('Sleeping for 1 Second..\\n')\n",
    "    time.sleep(1)\n",
    "    print('Done with sleeping\\n')\n",
    "\n",
    "do_something()\n",
    "\n",
    "finish = time.perf_counter()\n",
    "\n",
    "print(f'Finished in {round(finish-start, 2)} second(s)')"
   ]
  },
  {
   "cell_type": "code",
   "execution_count": 2,
   "metadata": {},
   "outputs": [
    {
     "name": "stdout",
     "output_type": "stream",
     "text": [
      "Sleeping for 1 Second..\n",
      "\n",
      "Done with sleeping\n",
      "\n",
      "Sleeping for 1 Second..\n",
      "\n",
      "Done with sleeping\n",
      "\n",
      "Finished in 2.0 second(s)\n"
     ]
    }
   ],
   "source": [
    "import time\n",
    "\n",
    "start = time.perf_counter()\n",
    "\n",
    "def do_something():\n",
    "    print('Sleeping for 1 Second..\\n')\n",
    "    time.sleep(1)\n",
    "    print('Done with sleeping\\n')\n",
    "\n",
    "do_something()\n",
    "do_something()\n",
    "\n",
    "finish = time.perf_counter()\n",
    "\n",
    "print(f'Finished in {round(finish-start, 2)} second(s)')"
   ]
  },
  {
   "cell_type": "code",
   "execution_count": 5,
   "metadata": {},
   "outputs": [
    {
     "name": "stdout",
     "output_type": "stream",
     "text": [
      "Sleeping for 1 Second..\n",
      "\n",
      "Sleeping for 1 Second..\n",
      "\n",
      "Done with sleeping\n",
      "Done with sleeping\n",
      "\n",
      "\n",
      "Finished in 1.03 second(s)\n"
     ]
    }
   ],
   "source": [
    "import time\n",
    "import threading\n",
    "\n",
    "start = time.perf_counter()\n",
    "\n",
    "def do_something():\n",
    "    print('Sleeping for 1 Second..\\n')\n",
    "    time.sleep(1)\n",
    "    print('Done with sleeping\\n')\n",
    "\n",
    "t1 = threading.Thread(target = do_something)\n",
    "t2 = threading.Thread(target = do_something)\n",
    "\n",
    "t1.start()\n",
    "t2.start()\n",
    "\n",
    "t1.join()\n",
    "t2.join()\n",
    "\n",
    "finish = time.perf_counter()\n",
    "\n",
    "print(f'Finished in {round(finish-start, 2)} second(s)')"
   ]
  },
  {
   "cell_type": "code",
   "execution_count": 6,
   "metadata": {},
   "outputs": [
    {
     "name": "stdout",
     "output_type": "stream",
     "text": [
      "Sleeping for 1 Second..\n",
      "Sleeping for 1 Second..\n",
      "\n",
      "Sleeping for 1 Second..\n",
      "\n",
      "\n",
      "Sleeping for 1 Second..\n",
      "\n",
      "Sleeping for 1 Second..\n",
      "\n",
      "Sleeping for 1 Second..\n",
      "Sleeping for 1 Second..\n",
      "\n",
      "\n",
      "Sleeping for 1 Second..\n",
      "Sleeping for 1 Second..\n",
      "\n",
      "\n",
      "Sleeping for 1 Second..\n",
      "\n",
      "Done with sleeping\n",
      "Done with sleeping\n",
      "\n",
      "\n",
      "Done with sleeping\n",
      "\n",
      "Done with sleeping\n",
      "\n",
      "Done with sleeping\n",
      "\n",
      "Done with sleeping\n",
      "\n",
      "Done with sleeping\n",
      "\n",
      "Done with sleeping\n",
      "\n",
      "Done with sleeping\n",
      "\n",
      "Done with sleeping\n",
      "\n",
      "Finished in 1.09 second(s)\n"
     ]
    }
   ],
   "source": [
    "import time\n",
    "import threading\n",
    "\n",
    "start = time.perf_counter()\n",
    "\n",
    "def do_something():\n",
    "    print('Sleeping for 1 Second..\\n')\n",
    "    time.sleep(1)\n",
    "    print('Done with sleeping\\n')\n",
    "\n",
    "threads = []\n",
    "\n",
    "for _ in range(10):\n",
    "    t = threading.Thread(target = do_something)\n",
    "    t.start()\n",
    "    threads.append(t)\n",
    "\n",
    "for thread in threads:\n",
    "    thread.join()\n",
    "\n",
    "finish = time.perf_counter()\n",
    "\n",
    "print(f'Finished in {round(finish-start, 2)} second(s)')"
   ]
  },
  {
   "cell_type": "markdown",
   "metadata": {},
   "source": [
    "# ThreadPoolExecutor of concurrent module"
   ]
  },
  {
   "cell_type": "code",
   "execution_count": 4,
   "metadata": {},
   "outputs": [
    {
     "name": "stdout",
     "output_type": "stream",
     "text": [
      "small-size-wallpapers-wp6124195.jpg was downloaded..\n",
      "small-size-wallpapers-wp6124196.jpg was downloaded..\n",
      "small-size-wallpapers-wp6124197.jpg was downloaded..\n",
      "small-size-wallpapers-wp6124198.jpg was downloaded..\n",
      "small-size-wallpapers-wp61241100.jpg was downloaded..\n",
      "small-size-wallpapers-wp61241101.jpg was downloaded..\n",
      "small-size-wallpapers-wp61241100.jpg was downloaded..\n",
      "Finished in 8.34382729999993 seconds\n"
     ]
    }
   ],
   "source": [
    "import requests\n",
    "import time\n",
    "\n",
    "img_urls = [\n",
    "    'https://wallpapercave.com/download/small-size-wallpapers-wp6124195',\n",
    "    'https://wallpapercave.com/download/small-size-wallpapers-wp6124196',\n",
    "    'https://wallpapercave.com/download/small-size-wallpapers-wp6124197',\n",
    "    'https://wallpapercave.com/download/small-size-wallpapers-wp6124198',\n",
    "    'https://wallpapercave.com/download/small-size-wallpapers-wp61241100',\n",
    "    'https://wallpapercave.com/download/small-size-wallpapers-wp61241101',\n",
    "    'https://wallpapercave.com/download/small-size-wallpapers-wp61241100'\n",
    "]\n",
    "\n",
    "start = time.perf_counter()\n",
    "\n",
    "for img_url in img_urls:\n",
    "    img_byte = requests.get(img_url).content\n",
    "    img_name = img_url.split('/')[4]\n",
    "    img_name = f'{img_name}.jpg'\n",
    "    \n",
    "    with open(img_name, 'wb') as img_file:\n",
    "        img_file.write(img_byte)\n",
    "        print(f'{img_name} was downloaded..')\n",
    "        \n",
    "end = time.perf_counter()\n",
    "\n",
    "print(f'Finished in {end-start} seconds')"
   ]
  },
  {
   "cell_type": "code",
   "execution_count": 5,
   "metadata": {},
   "outputs": [
    {
     "name": "stdout",
     "output_type": "stream",
     "text": [
      "small-size-wallpapers-wp61241100.jpg was downloaded..\n",
      "small-size-wallpapers-wp6124196.jpg was downloaded..\n",
      "small-size-wallpapers-wp6124195.jpg was downloaded..\n",
      "small-size-wallpapers-wp61241101.jpg was downloaded..\n",
      "small-size-wallpapers-wp61241100.jpg was downloaded..\n",
      "small-size-wallpapers-wp6124197.jpg was downloaded..\n",
      "small-size-wallpapers-wp6124198.jpg was downloaded..\n",
      "Finished in 2.5260678999998163 seconds\n"
     ]
    }
   ],
   "source": [
    "import requests\n",
    "import time\n",
    "import concurrent.futures\n",
    "\n",
    "img_urls = [\n",
    "    'https://wallpapercave.com/download/small-size-wallpapers-wp6124195',\n",
    "    'https://wallpapercave.com/download/small-size-wallpapers-wp6124196',\n",
    "    'https://wallpapercave.com/download/small-size-wallpapers-wp6124197',\n",
    "    'https://wallpapercave.com/download/small-size-wallpapers-wp6124198',\n",
    "    'https://wallpapercave.com/download/small-size-wallpapers-wp61241100',\n",
    "    'https://wallpapercave.com/download/small-size-wallpapers-wp61241101',\n",
    "    'https://wallpapercave.com/download/small-size-wallpapers-wp61241100'\n",
    "]\n",
    "\n",
    "start = time.perf_counter()\n",
    "\n",
    "def download_image(img_url):\n",
    "    img_byte = requests.get(img_url).content\n",
    "    img_name = img_url.split('/')[4]\n",
    "    img_name = f'{img_name}.jpg'\n",
    "    \n",
    "    with open(img_name, 'wb') as img_file:\n",
    "        img_file.write(img_byte)\n",
    "        print(f'{img_name} was downloaded..')\n",
    "        \n",
    "with concurrent.futures.ThreadPoolExecutor() as executor:\n",
    "    executor.map(download_image, img_urls)\n",
    "        \n",
    "end = time.perf_counter()\n",
    "\n",
    "print(f'Finished in {end-start} seconds')"
   ]
  },
  {
   "cell_type": "code",
   "execution_count": null,
   "metadata": {},
   "outputs": [],
   "source": []
  }
 ],
 "metadata": {
  "kernelspec": {
   "display_name": "Python 3",
   "language": "python",
   "name": "python3"
  },
  "language_info": {
   "codemirror_mode": {
    "name": "ipython",
    "version": 3
   },
   "file_extension": ".py",
   "mimetype": "text/x-python",
   "name": "python",
   "nbconvert_exporter": "python",
   "pygments_lexer": "ipython3",
   "version": "3.7.6"
  }
 },
 "nbformat": 4,
 "nbformat_minor": 4
}
