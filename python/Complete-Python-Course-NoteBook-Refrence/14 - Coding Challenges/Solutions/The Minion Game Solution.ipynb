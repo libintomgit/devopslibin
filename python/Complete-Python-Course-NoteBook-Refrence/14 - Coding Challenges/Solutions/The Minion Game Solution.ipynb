{
 "cells": [
  {
   "cell_type": "markdown",
   "metadata": {},
   "source": [
    "# The Minion Game Solution"
   ]
  },
  {
   "cell_type": "code",
   "execution_count": 2,
   "metadata": {},
   "outputs": [
    {
     "name": "stdout",
     "output_type": "stream",
     "text": [
      "BANANA\n",
      "Stuart 12\n"
     ]
    }
   ],
   "source": [
    "def minion_game(string):\n",
    "    # your code goes here\n",
    "    Kevin = 0\n",
    "    Stuart = 0\n",
    "    word = list(string)\n",
    "    x = len(word)\n",
    "    vowels = ['A','E','I','O','U']\n",
    "    for inx, w in enumerate(word):\n",
    "        if w in vowels:\n",
    "            Kevin = Kevin + x\n",
    "        else:\n",
    "            Stuart = Stuart + x\n",
    "        x = x - 1\n",
    "    if Stuart > Kevin:\n",
    "        print ('Stuart', Stuart)\n",
    "    elif Kevin > Stuart:\n",
    "        print ('Kevin', Kevin)\n",
    "    else:\n",
    "        print ('Draw')\n",
    "if __name__ == '__main__':\n",
    "    s = input()\n",
    "    minion_game(s)"
   ]
  }
 ],
 "metadata": {
  "kernelspec": {
   "display_name": "Python 3",
   "language": "python",
   "name": "python3"
  },
  "language_info": {
   "codemirror_mode": {
    "name": "ipython",
    "version": 3
   },
   "file_extension": ".py",
   "mimetype": "text/x-python",
   "name": "python",
   "nbconvert_exporter": "python",
   "pygments_lexer": "ipython3",
   "version": "3.7.6"
  }
 },
 "nbformat": 4,
 "nbformat_minor": 4
}
