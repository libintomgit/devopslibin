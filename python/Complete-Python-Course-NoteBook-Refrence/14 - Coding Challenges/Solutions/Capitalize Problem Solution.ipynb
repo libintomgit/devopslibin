{
 "cells": [
  {
   "cell_type": "code",
   "execution_count": 1,
   "metadata": {},
   "outputs": [
    {
     "name": "stdout",
     "output_type": "stream",
     "text": [
      "chris alan\n",
      "Chris Alan \n",
      "\n"
     ]
    }
   ],
   "source": [
    "import os\n",
    "def solve(s):\n",
    "    #Write Your Code Here!\n",
    "    string = ''\n",
    "    for word in s.split(' '):\n",
    "        string = string + word.capitalize() + ' '\n",
    "        \n",
    "    return string\n",
    "\n",
    "if __name__ == '__main__':\n",
    "    s = input()\n",
    "\n",
    "    result = solve(s)\n",
    "\n",
    "    print(result + '\\n')"
   ]
  },
  {
   "cell_type": "code",
   "execution_count": null,
   "metadata": {},
   "outputs": [],
   "source": []
  }
 ],
 "metadata": {
  "kernelspec": {
   "display_name": "Python 3",
   "language": "python",
   "name": "python3"
  },
  "language_info": {
   "codemirror_mode": {
    "name": "ipython",
    "version": 3
   },
   "file_extension": ".py",
   "mimetype": "text/x-python",
   "name": "python",
   "nbconvert_exporter": "python",
   "pygments_lexer": "ipython3",
   "version": "3.7.6"
  }
 },
 "nbformat": 4,
 "nbformat_minor": 4
}
