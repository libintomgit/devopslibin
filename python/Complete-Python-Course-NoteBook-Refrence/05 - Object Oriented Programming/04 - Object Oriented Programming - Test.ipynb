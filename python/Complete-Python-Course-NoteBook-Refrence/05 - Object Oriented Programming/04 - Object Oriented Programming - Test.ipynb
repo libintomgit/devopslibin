{
 "cells": [
  {
   "cell_type": "markdown",
   "metadata": {},
   "source": [
    "# Object oriented Programming - Test"
   ]
  },
  {
   "cell_type": "markdown",
   "metadata": {},
   "source": [
    "For This Test, You need to create a bank account class with three attributes:\n",
    "\n",
    "   1. Owner Name\n",
    "   2. Balance\n",
    "   3. Account Number\n",
    "   \n",
    "And two Method:\n",
    "\n",
    "   1. Withdraw\n",
    "   2. Deposite\n",
    "\n",
    "If the withdraw amount is greater the balance, method should print that Balance is not available.\n",
    "\n",
    "Test your class methods with several deposite and withdraw and no overdrawn should occur."
   ]
  },
  {
   "cell_type": "code",
   "execution_count": null,
   "metadata": {},
   "outputs": [],
   "source": [
    "class BankAccount:\n",
    "    # write your code Here!\n",
    "    "
   ]
  },
  {
   "cell_type": "markdown",
   "metadata": {},
   "source": [
    "# Congratulation for completing this test!"
   ]
  },
  {
   "cell_type": "code",
   "execution_count": null,
   "metadata": {},
   "outputs": [],
   "source": []
  }
 ],
 "metadata": {
  "kernelspec": {
   "display_name": "Python 3",
   "language": "python",
   "name": "python3"
  },
  "language_info": {
   "codemirror_mode": {
    "name": "ipython",
    "version": 3
   },
   "file_extension": ".py",
   "mimetype": "text/x-python",
   "name": "python",
   "nbconvert_exporter": "python",
   "pygments_lexer": "ipython3",
   "version": "3.7.6"
  }
 },
 "nbformat": 4,
 "nbformat_minor": 4
}
