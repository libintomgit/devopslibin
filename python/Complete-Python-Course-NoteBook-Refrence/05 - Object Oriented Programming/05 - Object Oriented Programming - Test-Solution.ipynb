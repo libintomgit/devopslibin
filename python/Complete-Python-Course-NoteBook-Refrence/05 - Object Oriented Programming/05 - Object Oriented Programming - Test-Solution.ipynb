{
 "cells": [
  {
   "cell_type": "markdown",
   "metadata": {},
   "source": [
    "# Object oriented Programming - Test Solution"
   ]
  },
  {
   "cell_type": "markdown",
   "metadata": {},
   "source": [
    "For This Test, You need to create a bank account class with three attributes:\n",
    "\n",
    "   1. Owner Name\n",
    "   2. Balance\n",
    "   3. Account Number\n",
    "And two Method:\n",
    "   1. Withdraw\n",
    "   2. Deposite\n",
    "\n",
    "If the withdraw amount is greater the balance, method shoul print that Balance is not available.\n",
    "\n",
    "Test your class methods with several deposite and withdraw and no overdrawn should occur."
   ]
  },
  {
   "cell_type": "code",
   "execution_count": 1,
   "metadata": {},
   "outputs": [],
   "source": [
    "class BankAccount:\n",
    "    # write your code Here!\n",
    "    def __init__(self, name, balance, account_no):\n",
    "        self.owner_name = name\n",
    "        self.balance = balance\n",
    "        self.account_no = account_no\n",
    "    \n",
    "    def deposite(self, amount):\n",
    "        self.balance += amount\n",
    "    \n",
    "    def withdraw(self, amount):\n",
    "        if amount > self.balance:\n",
    "            print('Balance not available')\n",
    "        else:\n",
    "            self.balance -= amount\n",
    "            print('withdrawal accepted')\n",
    "        "
   ]
  },
  {
   "cell_type": "code",
   "execution_count": 2,
   "metadata": {},
   "outputs": [],
   "source": [
    "account1 = BankAccount('Aman', 500, 12345)"
   ]
  },
  {
   "cell_type": "code",
   "execution_count": 6,
   "metadata": {},
   "outputs": [
    {
     "name": "stdout",
     "output_type": "stream",
     "text": [
      "Aman\n",
      "500\n",
      "12345\n"
     ]
    }
   ],
   "source": [
    "print(account1.owner_name)\n",
    "print(account1.balance)\n",
    "print(account1.account_no)"
   ]
  },
  {
   "cell_type": "code",
   "execution_count": 7,
   "metadata": {},
   "outputs": [],
   "source": [
    "account1.deposite(100)"
   ]
  },
  {
   "cell_type": "code",
   "execution_count": 8,
   "metadata": {},
   "outputs": [
    {
     "name": "stdout",
     "output_type": "stream",
     "text": [
      "600\n"
     ]
    }
   ],
   "source": [
    "print(account1.balance)"
   ]
  },
  {
   "cell_type": "code",
   "execution_count": 9,
   "metadata": {},
   "outputs": [
    {
     "name": "stdout",
     "output_type": "stream",
     "text": [
      "Balance not available\n"
     ]
    }
   ],
   "source": [
    "account1.withdraw(1000)"
   ]
  },
  {
   "cell_type": "code",
   "execution_count": 10,
   "metadata": {},
   "outputs": [
    {
     "name": "stdout",
     "output_type": "stream",
     "text": [
      "withdrawal accepted\n",
      "400\n"
     ]
    }
   ],
   "source": [
    "account1.withdraw(200)\n",
    "print(account1.balance)"
   ]
  },
  {
   "cell_type": "markdown",
   "metadata": {},
   "source": [
    "# Congratulation for completing this test!"
   ]
  }
 ],
 "metadata": {
  "kernelspec": {
   "display_name": "Python 3",
   "language": "python",
   "name": "python3"
  },
  "language_info": {
   "codemirror_mode": {
    "name": "ipython",
    "version": 3
   },
   "file_extension": ".py",
   "mimetype": "text/x-python",
   "name": "python",
   "nbconvert_exporter": "python",
   "pygments_lexer": "ipython3",
   "version": "3.7.6"
  }
 },
 "nbformat": 4,
 "nbformat_minor": 4
}
