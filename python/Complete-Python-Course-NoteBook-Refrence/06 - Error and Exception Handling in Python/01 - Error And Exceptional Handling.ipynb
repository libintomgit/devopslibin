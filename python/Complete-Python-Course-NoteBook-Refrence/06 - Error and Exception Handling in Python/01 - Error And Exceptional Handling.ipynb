{
 "cells": [
  {
   "cell_type": "markdown",
   "metadata": {},
   "source": [
    "# Errors and Exceptional Handling"
   ]
  },
  {
   "cell_type": "markdown",
   "metadata": {},
   "source": [
    "we use Three keywords for this:\n",
    "\n",
    "try: This Block of code of block is to be attempted (which may lead to an error).\n",
    "\n",
    "except: Block of code will execute in case there is an error in try block.\n",
    "\n",
    "finally: A final block of code to be executed, regardless of any error."
   ]
  },
  {
   "cell_type": "markdown",
   "metadata": {},
   "source": [
    "Link for Official Documentation:- https://docs.python.org/3/library/exceptions.html"
   ]
  },
  {
   "cell_type": "code",
   "execution_count": 1,
   "metadata": {},
   "outputs": [],
   "source": [
    "def add(n1,n2):\n",
    "    print(n1+n2)"
   ]
  },
  {
   "cell_type": "code",
   "execution_count": 2,
   "metadata": {},
   "outputs": [
    {
     "name": "stdout",
     "output_type": "stream",
     "text": [
      "30\n"
     ]
    }
   ],
   "source": [
    "add(10,20)"
   ]
  },
  {
   "cell_type": "code",
   "execution_count": 3,
   "metadata": {},
   "outputs": [],
   "source": [
    "num1 = 50"
   ]
  },
  {
   "cell_type": "code",
   "execution_count": 4,
   "metadata": {},
   "outputs": [
    {
     "name": "stdout",
     "output_type": "stream",
     "text": [
      "Enter a Number: 10\n"
     ]
    }
   ],
   "source": [
    "num2 = input('Enter a Number: ')"
   ]
  },
  {
   "cell_type": "code",
   "execution_count": 6,
   "metadata": {},
   "outputs": [
    {
     "ename": "TypeError",
     "evalue": "unsupported operand type(s) for +: 'int' and 'str'",
     "output_type": "error",
     "traceback": [
      "\u001b[1;31m---------------------------------------------------------------------------\u001b[0m",
      "\u001b[1;31mTypeError\u001b[0m                                 Traceback (most recent call last)",
      "\u001b[1;32m<ipython-input-6-08e3511bf2a1>\u001b[0m in \u001b[0;36m<module>\u001b[1;34m\u001b[0m\n\u001b[1;32m----> 1\u001b[1;33m \u001b[0madd\u001b[0m\u001b[1;33m(\u001b[0m\u001b[0mnum1\u001b[0m\u001b[1;33m,\u001b[0m\u001b[0mnum2\u001b[0m\u001b[1;33m)\u001b[0m\u001b[1;33m\u001b[0m\u001b[1;33m\u001b[0m\u001b[0m\n\u001b[0m\u001b[0;32m      2\u001b[0m \u001b[0mprint\u001b[0m\u001b[1;33m(\u001b[0m\u001b[1;34m'Some Error occured'\u001b[0m\u001b[1;33m)\u001b[0m\u001b[1;33m\u001b[0m\u001b[1;33m\u001b[0m\u001b[0m\n",
      "\u001b[1;32m<ipython-input-1-48bddae7e371>\u001b[0m in \u001b[0;36madd\u001b[1;34m(n1, n2)\u001b[0m\n\u001b[0;32m      1\u001b[0m \u001b[1;32mdef\u001b[0m \u001b[0madd\u001b[0m\u001b[1;33m(\u001b[0m\u001b[0mn1\u001b[0m\u001b[1;33m,\u001b[0m\u001b[0mn2\u001b[0m\u001b[1;33m)\u001b[0m\u001b[1;33m:\u001b[0m\u001b[1;33m\u001b[0m\u001b[1;33m\u001b[0m\u001b[0m\n\u001b[1;32m----> 2\u001b[1;33m     \u001b[0mprint\u001b[0m\u001b[1;33m(\u001b[0m\u001b[0mn1\u001b[0m\u001b[1;33m+\u001b[0m\u001b[0mn2\u001b[0m\u001b[1;33m)\u001b[0m\u001b[1;33m\u001b[0m\u001b[1;33m\u001b[0m\u001b[0m\n\u001b[0m",
      "\u001b[1;31mTypeError\u001b[0m: unsupported operand type(s) for +: 'int' and 'str'"
     ]
    }
   ],
   "source": [
    "add(num1,num2)\n",
    "print('Some Error occured')"
   ]
  },
  {
   "cell_type": "code",
   "execution_count": 7,
   "metadata": {},
   "outputs": [],
   "source": [
    "try: \n",
    "    result = 40 + 30\n",
    "except:\n",
    "    print('Its Look like you are not adding properly!!')\n",
    "    "
   ]
  },
  {
   "cell_type": "code",
   "execution_count": 8,
   "metadata": {},
   "outputs": [
    {
     "data": {
      "text/plain": [
       "70"
      ]
     },
     "execution_count": 8,
     "metadata": {},
     "output_type": "execute_result"
    }
   ],
   "source": [
    "result"
   ]
  },
  {
   "cell_type": "code",
   "execution_count": 10,
   "metadata": {},
   "outputs": [
    {
     "name": "stdout",
     "output_type": "stream",
     "text": [
      "Its Look like you are not adding properly!!\n"
     ]
    }
   ],
   "source": [
    "try: \n",
    "    result = 40 + '30'\n",
    "except:\n",
    "    print('Its Look like you are not adding properly!!')\n",
    "else:\n",
    "    print('Add Operation is Succesful')\n",
    "    print(result)"
   ]
  },
  {
   "cell_type": "code",
   "execution_count": 11,
   "metadata": {},
   "outputs": [
    {
     "name": "stdout",
     "output_type": "stream",
     "text": [
      "I will Always Run Regarless of any Error which might Occur!!\n"
     ]
    }
   ],
   "source": [
    "try:\n",
    "    f = open('test_file','w')\n",
    "    f.write('Write a test line')\n",
    "except TypeError:\n",
    "    print('This was a type Error')\n",
    "except OSError:\n",
    "    print('You have an OS Error!!')\n",
    "finally:\n",
    "    print('I will Always Run Regarless of any Error which might Occur!!')"
   ]
  },
  {
   "cell_type": "code",
   "execution_count": 12,
   "metadata": {},
   "outputs": [
    {
     "name": "stdout",
     "output_type": "stream",
     "text": [
      "You have an OS Error!!\n",
      "I will Always Run Regarless of any Error which might Occur!!\n"
     ]
    }
   ],
   "source": [
    "try:\n",
    "    f = open('test_file','r')\n",
    "    f.write('Write a test line')\n",
    "except TypeError:\n",
    "    print('This was a type Error')\n",
    "except OSError:\n",
    "    print('You have an OS Error!!')\n",
    "finally:\n",
    "    print('I will Always Run Regarless of any Error which might Occur!!')"
   ]
  },
  {
   "cell_type": "code",
   "execution_count": 18,
   "metadata": {},
   "outputs": [],
   "source": [
    "def integer():\n",
    "    try:\n",
    "        result = int(input('Enter a number: '))\n",
    "        print(result)\n",
    "    except:\n",
    "        print('oops!! That is not a number')\n",
    "    finally:\n",
    "        print('End of try/except/finally')"
   ]
  },
  {
   "cell_type": "code",
   "execution_count": 19,
   "metadata": {},
   "outputs": [
    {
     "name": "stdout",
     "output_type": "stream",
     "text": [
      "Enter a number: string\n",
      "oops!! That is not a number\n",
      "End of try/except/finally\n"
     ]
    }
   ],
   "source": [
    "integer()"
   ]
  },
  {
   "cell_type": "code",
   "execution_count": 22,
   "metadata": {},
   "outputs": [],
   "source": [
    "def integer():\n",
    "    while True:\n",
    "        try:\n",
    "            result = int(input('Enter a number: '))\n",
    "            print(result)\n",
    "        except:\n",
    "            print('oops!! That is not a number')\n",
    "            continue\n",
    "        else:\n",
    "            print('Yes that is a number')\n",
    "            break\n",
    "        finally:\n",
    "            print('End of try/except/finally')"
   ]
  },
  {
   "cell_type": "code",
   "execution_count": 23,
   "metadata": {},
   "outputs": [
    {
     "name": "stdout",
     "output_type": "stream",
     "text": [
      "Enter a number: aman\n",
      "oops!! That is not a number\n",
      "End of try/except/finally\n",
      "Enter a number: g\n",
      "oops!! That is not a number\n",
      "End of try/except/finally\n",
      "Enter a number: t\n",
      "oops!! That is not a number\n",
      "End of try/except/finally\n",
      "Enter a number: 4\n",
      "4\n",
      "Yes that is a number\n",
      "End of try/except/finally\n"
     ]
    }
   ],
   "source": [
    "integer()"
   ]
  },
  {
   "cell_type": "code",
   "execution_count": null,
   "metadata": {},
   "outputs": [],
   "source": []
  }
 ],
 "metadata": {
  "kernelspec": {
   "display_name": "Python 3",
   "language": "python",
   "name": "python3"
  },
  "language_info": {
   "codemirror_mode": {
    "name": "ipython",
    "version": 3
   },
   "file_extension": ".py",
   "mimetype": "text/x-python",
   "name": "python",
   "nbconvert_exporter": "python",
   "pygments_lexer": "ipython3",
   "version": "3.7.6"
  }
 },
 "nbformat": 4,
 "nbformat_minor": 4
}
