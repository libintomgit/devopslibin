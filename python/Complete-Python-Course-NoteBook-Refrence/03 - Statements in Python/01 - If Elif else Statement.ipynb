{
 "cells": [
  {
   "cell_type": "markdown",
   "metadata": {},
   "source": [
    "# If elif else statement in python"
   ]
  },
  {
   "cell_type": "markdown",
   "metadata": {},
   "source": [
    "Lets begin to learn about control flow statements\n",
    "These Control Flow Statments is used when we only want to execute a piece of code based on some condition.\n",
    "\n",
    "For Ex:- If my salary is greater the $ 1000(Some Condition) then i have to pay the tax.\n",
    "\n",
    "To Control This Flow of Logic we use some Keyword:-\n",
    "\n",
    "* if\n",
    "* elif\n",
    "* else\n",
    "\n",
    "Control Flow syntax makes Use of Colons and indentation(Whitespace).\n",
    "\n",
    "This Indentation system is crucial to python and is what sets its apart from other programming languages.\n",
    "\n",
    "Syntax of an if Statement:\n",
    "\n",
    "if condition_is_True:\n",
    "    Execute Some code\n",
    "else:\n",
    "    do something else\n",
    "    \n",
    "    \n",
    "For Multiple Conditions\n",
    "\n",
    "if condition_is_True:\n",
    "    Execute Some code\n",
    "elif Some_other Condition:\n",
    "    Execute something Different\n",
    "else:\n",
    "    do something else"
   ]
  },
  {
   "cell_type": "code",
   "execution_count": 1,
   "metadata": {},
   "outputs": [
    {
     "name": "stdout",
     "output_type": "stream",
     "text": [
      "it was the True Condition\n"
     ]
    }
   ],
   "source": [
    "if True:\n",
    "    print('it was the True Condition')"
   ]
  },
  {
   "cell_type": "code",
   "execution_count": 2,
   "metadata": {},
   "outputs": [
    {
     "name": "stdout",
     "output_type": "stream",
     "text": [
      "x was False\n"
     ]
    }
   ],
   "source": [
    "x = False\n",
    "\n",
    "if x:\n",
    "    print('x was True')\n",
    "else:\n",
    "    print('x was False')"
   ]
  },
  {
   "cell_type": "code",
   "execution_count": 5,
   "metadata": {},
   "outputs": [
    {
     "name": "stdout",
     "output_type": "stream",
     "text": [
      "Enter an integer:7\n",
      "Thats an odd number\n"
     ]
    }
   ],
   "source": [
    "n = int(input('Enter an integer:'))\n",
    "\n",
    "if n%2 == 0:\n",
    "    print('Thats an even number')\n",
    "else:\n",
    "    print('Thats an odd number')"
   ]
  },
  {
   "cell_type": "code",
   "execution_count": 9,
   "metadata": {},
   "outputs": [
    {
     "name": "stdout",
     "output_type": "stream",
     "text": [
      "Enter an integer:8\n",
      "Even\n"
     ]
    }
   ],
   "source": [
    "n = int(input('Enter an integer:'))\n",
    "\n",
    "if n%2 == 0:\n",
    "    print('Even')\n",
    "elif n%3 == 0:\n",
    "    print('it is Divisible by 3')\n",
    "else:\n",
    "    print('Number is not divisible by 2 and 3')\n",
    "\n"
   ]
  },
  {
   "cell_type": "code",
   "execution_count": null,
   "metadata": {},
   "outputs": [],
   "source": []
  }
 ],
 "metadata": {
  "kernelspec": {
   "display_name": "Python 3",
   "language": "python",
   "name": "python3"
  },
  "language_info": {
   "codemirror_mode": {
    "name": "ipython",
    "version": 3
   },
   "file_extension": ".py",
   "mimetype": "text/x-python",
   "name": "python",
   "nbconvert_exporter": "python",
   "pygments_lexer": "ipython3",
   "version": "3.7.6"
  }
 },
 "nbformat": 4,
 "nbformat_minor": 4
}
