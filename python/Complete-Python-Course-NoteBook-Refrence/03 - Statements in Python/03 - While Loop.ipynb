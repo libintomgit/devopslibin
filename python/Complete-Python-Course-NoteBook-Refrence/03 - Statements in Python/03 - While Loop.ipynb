{
 "cells": [
  {
   "cell_type": "markdown",
   "metadata": {},
   "source": [
    "# While  Loop"
   ]
  },
  {
   "cell_type": "markdown",
   "metadata": {},
   "source": [
    "Example:-\n",
    "while the glass is not full, Keep filling it with water.\n",
    "\n",
    "while i don't understand the concept of loop, i will keep on trying.\n",
    "\n",
    "Syntax of the While Loop:-\n",
    "\n",
    "While condition is True:\n",
    "    keep doing somthing\n",
    "    "
   ]
  },
  {
   "cell_type": "code",
   "execution_count": 5,
   "metadata": {},
   "outputs": [
    {
     "name": "stdout",
     "output_type": "stream",
     "text": [
      "x is currently: 0\n",
      "x is still less than 10 adding 1 to x\n",
      "x is currently: 1\n",
      "x is still less than 10 adding 1 to x\n",
      "x is currently: 2\n",
      "x is still less than 10 adding 1 to x\n",
      "x is currently: 3\n",
      "x is still less than 10 adding 1 to x\n",
      "x is currently: 4\n",
      "x is still less than 10 adding 1 to x\n"
     ]
    }
   ],
   "source": [
    "x = 0\n",
    "\n",
    "while x < 5:\n",
    "    print('x is currently:', x)\n",
    "    print('x is still less than 10 adding 1 to x')\n",
    "    x += 1"
   ]
  },
  {
   "cell_type": "code",
   "execution_count": 6,
   "metadata": {},
   "outputs": [
    {
     "name": "stdout",
     "output_type": "stream",
     "text": [
      "x is currently: 0\n",
      "x is still less than 10 adding 1 to x\n",
      "x is currently: 1\n",
      "x is still less than 10 adding 1 to x\n",
      "x is currently: 2\n",
      "x is still less than 10 adding 1 to x\n",
      "x is currently: 3\n",
      "x is still less than 10 adding 1 to x\n",
      "x is currently: 4\n",
      "x is still less than 10 adding 1 to x\n",
      "i m done with the while loop\n"
     ]
    }
   ],
   "source": [
    "x = 0\n",
    "\n",
    "while x < 5:\n",
    "    print('x is currently:', x)\n",
    "    print('x is still less than 10 adding 1 to x')\n",
    "    x += 1\n",
    "else:\n",
    "    print('i m done with the while loop')"
   ]
  },
  {
   "cell_type": "code",
   "execution_count": 7,
   "metadata": {},
   "outputs": [],
   "source": [
    "# Break, countinue , pass"
   ]
  },
  {
   "cell_type": "code",
   "execution_count": 8,
   "metadata": {},
   "outputs": [
    {
     "name": "stdout",
     "output_type": "stream",
     "text": [
      "x is currently: 0\n",
      "x is still less than 10 adding 1 to x\n",
      "continuing\n",
      "x is currently: 1\n",
      "x is still less than 10 adding 1 to x\n",
      "x == 2\n",
      "x is currently: 2\n",
      "x is still less than 10 adding 1 to x\n",
      "continuing\n",
      "x is currently: 3\n",
      "x is still less than 10 adding 1 to x\n",
      "continuing\n",
      "x is currently: 4\n",
      "x is still less than 10 adding 1 to x\n",
      "continuing\n"
     ]
    }
   ],
   "source": [
    "x = 0\n",
    "\n",
    "\n",
    "while x < 5:\n",
    "    print('x is currently:', x)\n",
    "    print('x is still less than 10 adding 1 to x')\n",
    "    x += 1\n",
    "    if x == 2:\n",
    "        print('x == 2')\n",
    "    else:\n",
    "        print('continuing')\n",
    "        continue\n",
    "    \n"
   ]
  },
  {
   "cell_type": "code",
   "execution_count": 9,
   "metadata": {},
   "outputs": [
    {
     "name": "stdout",
     "output_type": "stream",
     "text": [
      "x is currently: 0\n",
      "x is still less than 10 adding 1 to x\n",
      "continuing\n",
      "x is currently: 1\n",
      "x is still less than 10 adding 1 to x\n",
      "x == 2\n"
     ]
    }
   ],
   "source": [
    "x = 0\n",
    "\n",
    "\n",
    "while x < 5:\n",
    "    print('x is currently:', x)\n",
    "    print('x is still less than 10 adding 1 to x')\n",
    "    x += 1\n",
    "    if x == 2:\n",
    "        print('x == 2')\n",
    "        break\n",
    "    else:\n",
    "        print('continuing')\n",
    "        continue"
   ]
  },
  {
   "cell_type": "code",
   "execution_count": 10,
   "metadata": {},
   "outputs": [
    {
     "ename": "SyntaxError",
     "evalue": "unexpected EOF while parsing (<ipython-input-10-22fe496861bc>, line 2)",
     "output_type": "error",
     "traceback": [
      "\u001b[1;36m  File \u001b[1;32m\"<ipython-input-10-22fe496861bc>\"\u001b[1;36m, line \u001b[1;32m2\u001b[0m\n\u001b[1;33m    \u001b[0m\n\u001b[1;37m    ^\u001b[0m\n\u001b[1;31mSyntaxError\u001b[0m\u001b[1;31m:\u001b[0m unexpected EOF while parsing\n"
     ]
    }
   ],
   "source": [
    "# while True:\n",
    "#     pass"
   ]
  },
  {
   "cell_type": "code",
   "execution_count": null,
   "metadata": {},
   "outputs": [],
   "source": []
  }
 ],
 "metadata": {
  "kernelspec": {
   "display_name": "Python 3",
   "language": "python",
   "name": "python3"
  },
  "language_info": {
   "codemirror_mode": {
    "name": "ipython",
    "version": 3
   },
   "file_extension": ".py",
   "mimetype": "text/x-python",
   "name": "python",
   "nbconvert_exporter": "python",
   "pygments_lexer": "ipython3",
   "version": "3.7.6"
  }
 },
 "nbformat": 4,
 "nbformat_minor": 4
}
