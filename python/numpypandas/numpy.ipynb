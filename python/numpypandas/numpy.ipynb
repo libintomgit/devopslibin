{
 "cells": [
  {
   "cell_type": "code",
   "execution_count": 6,
   "metadata": {},
   "outputs": [],
   "source": [
    "import sys\n",
    "import numpy as np"
   ]
  },
  {
   "cell_type": "code",
   "execution_count": 4,
   "metadata": {},
   "outputs": [
    {
     "name": "stdout",
     "output_type": "stream",
     "text": [
      "3.10.8 (main, Oct 13 2022, 20:51:03) [Clang 10.0.1 (clang-1001.0.46.4)]\n"
     ]
    }
   ],
   "source": [
    "print(sys.version)"
   ]
  },
  {
   "cell_type": "code",
   "execution_count": 7,
   "metadata": {},
   "outputs": [],
   "source": [
    "import time"
   ]
  },
  {
   "cell_type": "code",
   "execution_count": 9,
   "metadata": {},
   "outputs": [],
   "source": [
    "startPython = int(round(time.time() * 1000))"
   ]
  },
  {
   "cell_type": "code",
   "execution_count": 11,
   "metadata": {},
   "outputs": [
    {
     "name": "stdout",
     "output_type": "stream",
     "text": [
      "1675607639527\n"
     ]
    }
   ],
   "source": [
    "print(startPython)"
   ]
  },
  {
   "cell_type": "code",
   "execution_count": 12,
   "metadata": {},
   "outputs": [],
   "source": [
    "a = list(range(10000000))\n",
    "b = list(range(10000000))\n",
    "c = []"
   ]
  },
  {
   "cell_type": "code",
   "execution_count": 14,
   "metadata": {},
   "outputs": [],
   "source": [
    "for i in range(len(a)):\n",
    "    c.append(a[i] + b[i])\n",
    "\n",
    "stopPython = int(round(time.time()* 1000))"
   ]
  },
  {
   "cell_type": "code",
   "execution_count": 16,
   "metadata": {},
   "outputs": [
    {
     "name": "stdout",
     "output_type": "stream",
     "text": [
      "170149\n",
      "1675607809676\n"
     ]
    }
   ],
   "source": [
    "print(stopPython - startPython)\n",
    "print(stopPython)"
   ]
  },
  {
   "cell_type": "code",
   "execution_count": 17,
   "metadata": {},
   "outputs": [],
   "source": [
    "a = np.arange(10000000, dtype=int)\n",
    "b = np.arange(10000000, dtype=int)\n",
    "\n",
    "c = a + b\n",
    "\n",
    "stopNumpy = int(round(time.time()* 1000))\n"
   ]
  },
  {
   "cell_type": "code",
   "execution_count": 18,
   "metadata": {},
   "outputs": [
    {
     "name": "stdout",
     "output_type": "stream",
     "text": [
      "349063\n"
     ]
    }
   ],
   "source": [
    "print(stopNumpy - startPython)\n"
   ]
  },
  {
   "cell_type": "code",
   "execution_count": 19,
   "metadata": {},
   "outputs": [
    {
     "name": "stdout",
     "output_type": "stream",
     "text": [
      "1.0515136733098638\n"
     ]
    }
   ],
   "source": [
    "print((stopNumpy - stopPython)/(stopPython - startPython))"
   ]
  },
  {
   "cell_type": "code",
   "execution_count": 20,
   "metadata": {},
   "outputs": [],
   "source": [
    "arr = np.array([5.5, 45.6, 3.2], float)"
   ]
  },
  {
   "cell_type": "code",
   "execution_count": 21,
   "metadata": {},
   "outputs": [
    {
     "name": "stdout",
     "output_type": "stream",
     "text": [
      "5.5\n"
     ]
    }
   ],
   "source": [
    "print(arr[0])"
   ]
  },
  {
   "cell_type": "code",
   "execution_count": 22,
   "metadata": {},
   "outputs": [],
   "source": [
    "arr[0] = 5"
   ]
  },
  {
   "cell_type": "code",
   "execution_count": 23,
   "metadata": {},
   "outputs": [
    {
     "name": "stdout",
     "output_type": "stream",
     "text": [
      "5.0\n"
     ]
    }
   ],
   "source": [
    "print(arr[0])"
   ]
  },
  {
   "cell_type": "code",
   "execution_count": 24,
   "metadata": {},
   "outputs": [
    {
     "name": "stdout",
     "output_type": "stream",
     "text": [
      "[ 5.  45.6  3.2]\n"
     ]
    }
   ],
   "source": [
    "print(arr)"
   ]
  },
  {
   "cell_type": "code",
   "execution_count": 25,
   "metadata": {},
   "outputs": [],
   "source": [
    "arr = np.array([[1,2,3], [4,5,6]], float)"
   ]
  },
  {
   "cell_type": "code",
   "execution_count": 26,
   "metadata": {},
   "outputs": [
    {
     "name": "stdout",
     "output_type": "stream",
     "text": [
      "[1. 2. 3.]\n"
     ]
    }
   ],
   "source": [
    "print(arr[0])"
   ]
  },
  {
   "cell_type": "code",
   "execution_count": 27,
   "metadata": {},
   "outputs": [
    {
     "name": "stdout",
     "output_type": "stream",
     "text": [
      "1.0\n"
     ]
    }
   ],
   "source": [
    "print(arr[0,0])"
   ]
  },
  {
   "cell_type": "code",
   "execution_count": 34,
   "metadata": {},
   "outputs": [
    {
     "name": "stdout",
     "output_type": "stream",
     "text": [
      "6.0\n"
     ]
    }
   ],
   "source": [
    "print(arr[1,2])"
   ]
  },
  {
   "cell_type": "code",
   "execution_count": 35,
   "metadata": {},
   "outputs": [],
   "source": [
    "arr[0,1] = 12.2"
   ]
  },
  {
   "cell_type": "code",
   "execution_count": 36,
   "metadata": {},
   "outputs": [
    {
     "name": "stdout",
     "output_type": "stream",
     "text": [
      "[[ 1.  12.2  3. ]\n",
      " [ 4.   5.   6. ]]\n"
     ]
    }
   ],
   "source": [
    "print(arr)"
   ]
  },
  {
   "cell_type": "code",
   "execution_count": 37,
   "metadata": {},
   "outputs": [
    {
     "name": "stdout",
     "output_type": "stream",
     "text": [
      "[4. 5. 6.]\n"
     ]
    }
   ],
   "source": [
    "print(arr[1])"
   ]
  },
  {
   "cell_type": "code",
   "execution_count": 38,
   "metadata": {},
   "outputs": [],
   "source": [
    "arr[0]=12.2"
   ]
  },
  {
   "cell_type": "code",
   "execution_count": 39,
   "metadata": {},
   "outputs": [
    {
     "name": "stdout",
     "output_type": "stream",
     "text": [
      "[[12.2 12.2 12.2]\n",
      " [ 4.   5.   6. ]]\n"
     ]
    }
   ],
   "source": [
    "print(arr)"
   ]
  },
  {
   "cell_type": "code",
   "execution_count": 40,
   "metadata": {},
   "outputs": [],
   "source": [
    "arr[0]=1,2,3"
   ]
  },
  {
   "cell_type": "code",
   "execution_count": 41,
   "metadata": {},
   "outputs": [
    {
     "name": "stdout",
     "output_type": "stream",
     "text": [
      "[[1. 2. 3.]\n",
      " [4. 5. 6.]]\n"
     ]
    }
   ],
   "source": [
    "print(arr)"
   ]
  },
  {
   "cell_type": "code",
   "execution_count": 54,
   "metadata": {},
   "outputs": [
    {
     "name": "stdout",
     "output_type": "stream",
     "text": [
      "[2. 3.] [1]\n"
     ]
    }
   ],
   "source": [
    "print(arr[0,1:3],[1])"
   ]
  },
  {
   "cell_type": "code",
   "execution_count": 68,
   "metadata": {},
   "outputs": [],
   "source": [
    "arr = np.array([[1, 2, 3, 4], [5, 6, 7, 8],[9, 10, 11, 12]], float)"
   ]
  },
  {
   "cell_type": "code",
   "execution_count": 74,
   "metadata": {},
   "outputs": [
    {
     "name": "stdout",
     "output_type": "stream",
     "text": [
      "firtst [[1. 2. 3. 4.]]\n"
     ]
    }
   ],
   "source": [
    "print(\"firtst\", arr[0:1, 0:4])"
   ]
  },
  {
   "cell_type": "code",
   "execution_count": 82,
   "metadata": {},
   "outputs": [
    {
     "name": "stdout",
     "output_type": "stream",
     "text": [
      "Second [[ 1.  3.]\n",
      " [ 5.  7.]\n",
      " [ 9. 11.]]\n"
     ]
    }
   ],
   "source": [
    "print(\"Second\", arr[0:3, 0:4:2])"
   ]
  },
  {
   "cell_type": "code",
   "execution_count": 86,
   "metadata": {},
   "outputs": [
    {
     "name": "stdout",
     "output_type": "stream",
     "text": [
      "Third [[ 1.  2.  3.]\n",
      " [ 5.  6.  7.]\n",
      " [ 9. 10. 11.]]\n"
     ]
    }
   ],
   "source": [
    "print(\"Third\", arr[:, 0:3])"
   ]
  },
  {
   "cell_type": "code",
   "execution_count": 85,
   "metadata": {},
   "outputs": [
    {
     "name": "stdout",
     "output_type": "stream",
     "text": [
      "Fourth [[ 1.  3.]\n",
      " [ 5.  7.]\n",
      " [ 9. 11.]]\n"
     ]
    }
   ],
   "source": [
    "print(\"Fourth\", arr[:, [0,3]])"
   ]
  },
  {
   "cell_type": "code",
   "execution_count": 87,
   "metadata": {},
   "outputs": [],
   "source": [
    "data = np.array([[1, 2, 3], [2, 4, 5], [4, 5, 7],[6, 2, 3]], float)"
   ]
  },
  {
   "cell_type": "code",
   "execution_count": 88,
   "metadata": {},
   "outputs": [],
   "source": [
    "resultA = data[:, 0:3]"
   ]
  },
  {
   "cell_type": "code",
   "execution_count": 89,
   "metadata": {},
   "outputs": [],
   "source": [
    "resultA[0] = 200"
   ]
  },
  {
   "cell_type": "code",
   "execution_count": 90,
   "metadata": {},
   "outputs": [
    {
     "name": "stdout",
     "output_type": "stream",
     "text": [
      "[[200. 200. 200.]\n",
      " [  2.   4.   5.]\n",
      " [  4.   5.   7.]\n",
      " [  6.   2.   3.]]\n",
      "[[200. 200. 200.]\n",
      " [  2.   4.   5.]\n",
      " [  4.   5.   7.]\n",
      " [  6.   2.   3.]]\n"
     ]
    }
   ],
   "source": [
    "print(data)\n",
    "print(resultA)"
   ]
  },
  {
   "cell_type": "code",
   "execution_count": 91,
   "metadata": {},
   "outputs": [
    {
     "name": "stdout",
     "output_type": "stream",
     "text": [
      "3\n"
     ]
    }
   ],
   "source": [
    "print(len(arr))"
   ]
  },
  {
   "cell_type": "code",
   "execution_count": 92,
   "metadata": {},
   "outputs": [
    {
     "name": "stdout",
     "output_type": "stream",
     "text": [
      "4\n"
     ]
    }
   ],
   "source": [
    "print(len(arr[0]))"
   ]
  },
  {
   "cell_type": "code",
   "execution_count": 93,
   "metadata": {},
   "outputs": [],
   "source": [
    "arr = np.arange(50)"
   ]
  },
  {
   "cell_type": "code",
   "execution_count": 94,
   "metadata": {},
   "outputs": [
    {
     "name": "stdout",
     "output_type": "stream",
     "text": [
      "[ 0  1  2  3  4  5  6  7  8  9 10 11 12 13 14 15 16 17 18 19 20 21 22 23\n",
      " 24 25 26 27 28 29 30 31 32 33 34 35 36 37 38 39 40 41 42 43 44 45 46 47\n",
      " 48 49]\n"
     ]
    }
   ],
   "source": [
    "print(arr)"
   ]
  },
  {
   "cell_type": "code",
   "execution_count": 95,
   "metadata": {},
   "outputs": [
    {
     "name": "stdout",
     "output_type": "stream",
     "text": [
      "50\n"
     ]
    }
   ],
   "source": [
    "print(len(arr))"
   ]
  },
  {
   "cell_type": "code",
   "execution_count": 105,
   "metadata": {},
   "outputs": [],
   "source": [
    "arr2 = np.resize(arr, (10,5))"
   ]
  },
  {
   "cell_type": "code",
   "execution_count": 106,
   "metadata": {},
   "outputs": [
    {
     "name": "stdout",
     "output_type": "stream",
     "text": [
      "[[ 0  1  2  3  4]\n",
      " [ 5  6  7  8  9]\n",
      " [10 11 12 13 14]\n",
      " [15 16 17 18 19]\n",
      " [20 21 22 23 24]\n",
      " [25 26 27 28 29]\n",
      " [30 31 32 33 34]\n",
      " [35 36 37 38 39]\n",
      " [40 41 42 43 44]\n",
      " [45 46 47 48 49]]\n"
     ]
    }
   ],
   "source": [
    "print(arr2)"
   ]
  },
  {
   "cell_type": "code",
   "execution_count": 107,
   "metadata": {},
   "outputs": [],
   "source": [
    "np.savetxt(\"numbers.txt\", arr2, fmt=\"%d\", delimiter=\",\")"
   ]
  },
  {
   "cell_type": "code",
   "execution_count": 110,
   "metadata": {},
   "outputs": [],
   "source": [
    "data = np.genfromtxt(\"numbers.txt\", delimiter=\",\")"
   ]
  },
  {
   "cell_type": "code",
   "execution_count": 113,
   "metadata": {},
   "outputs": [
    {
     "name": "stdout",
     "output_type": "stream",
     "text": [
      "[[ 0.  1.  2.  3.  4.]\n",
      " [ 5.  6.  7.  8.  9.]\n",
      " [10. 11. 12. 13. 14.]\n",
      " [15. 16. 17. 18. 19.]\n",
      " [20. 21. 22. 23. 24.]\n",
      " [25. 26. 27. 28. 29.]\n",
      " [30. 31. 32. 33. 34.]\n",
      " [35. 36. 37. 38. 39.]\n",
      " [40. 41. 42. 43. 44.]\n",
      " [45. 46. 47. 48. 49.]]\n"
     ]
    }
   ],
   "source": [
    "print(data)"
   ]
  },
  {
   "cell_type": "code",
   "execution_count": 114,
   "metadata": {},
   "outputs": [],
   "source": [
    "data = np.array([[1, 2, 3], [2, 4, 5], [4, 5, 7],[6, 2, 3]], float)"
   ]
  },
  {
   "cell_type": "code",
   "execution_count": 117,
   "metadata": {},
   "outputs": [],
   "source": [
    "data=np.append(arr, [[]])"
   ]
  },
  {
   "cell_type": "code",
   "execution_count": 118,
   "metadata": {},
   "outputs": [
    {
     "name": "stdout",
     "output_type": "stream",
     "text": [
      "[ 0  1  2  3  4  5  6  7  8  9 10 11 12 13 14 15 16 17 18 19 20 21 22 23\n",
      " 24 25 26 27 28 29 30 31 32 33 34 35 36 37 38 39 40 41 42 43 44 45 46 47\n",
      " 48 49 50 51 52 53 54]\n"
     ]
    }
   ],
   "source": [
    "print(data)"
   ]
  },
  {
   "cell_type": "code",
   "execution_count": 134,
   "metadata": {},
   "outputs": [
    {
     "name": "stdout",
     "output_type": "stream",
     "text": [
      "[[1. 2. 3.]\n",
      " [4. 5. 6.]]\n"
     ]
    }
   ],
   "source": [
    "arr = np.array([[1, 2, 3], [4, 5, 6]], float)\n",
    "print (arr)"
   ]
  },
  {
   "cell_type": "code",
   "execution_count": 135,
   "metadata": {},
   "outputs": [],
   "source": [
    "arr1 = np.append(arr, [[7],[8]], axis=1)"
   ]
  },
  {
   "cell_type": "code",
   "execution_count": 136,
   "metadata": {},
   "outputs": [
    {
     "name": "stdout",
     "output_type": "stream",
     "text": [
      "[[1. 2. 3.]\n",
      " [4. 5. 6.]]\n",
      "[[1. 2. 3. 7.]\n",
      " [4. 5. 6. 8.]]\n"
     ]
    }
   ],
   "source": [
    "print(arr)\n",
    "print(arr1)"
   ]
  },
  {
   "cell_type": "code",
   "execution_count": 137,
   "metadata": {},
   "outputs": [
    {
     "name": "stdout",
     "output_type": "stream",
     "text": [
      "36.0\n"
     ]
    }
   ],
   "source": [
    "print(np.sum(arr1))"
   ]
  },
  {
   "cell_type": "code",
   "execution_count": 138,
   "metadata": {},
   "outputs": [],
   "source": [
    "arr = np.array([[1, 2, 3], [4, 5, 6]], float)"
   ]
  },
  {
   "cell_type": "code",
   "execution_count": 140,
   "metadata": {},
   "outputs": [
    {
     "name": "stdout",
     "output_type": "stream",
     "text": [
      "21.0\n"
     ]
    }
   ],
   "source": [
    "print(np.sum(arr))"
   ]
  },
  {
   "cell_type": "code",
   "execution_count": 142,
   "metadata": {},
   "outputs": [],
   "source": [
    "arr1 = np.array([[1, 2, 4],[3, 4, 2]], float)"
   ]
  },
  {
   "cell_type": "code",
   "execution_count": 144,
   "metadata": {},
   "outputs": [
    {
     "name": "stdout",
     "output_type": "stream",
     "text": [
      "16.0\n",
      "192.0\n"
     ]
    }
   ],
   "source": [
    "print(np.sum(arr1))\n",
    "print(np.product(arr1))"
   ]
  },
  {
   "cell_type": "code",
   "execution_count": 146,
   "metadata": {},
   "outputs": [],
   "source": [
    "arr2 = np.array([[1,2,3],[4,5,6],[7,8,9]], float)"
   ]
  },
  {
   "cell_type": "code",
   "execution_count": 147,
   "metadata": {},
   "outputs": [
    {
     "name": "stdout",
     "output_type": "stream",
     "text": [
      "[[1. 2. 3.]\n",
      " [4. 5. 6.]\n",
      " [7. 8. 9.]]\n"
     ]
    }
   ],
   "source": [
    "print(arr2)"
   ]
  },
  {
   "cell_type": "code",
   "execution_count": 148,
   "metadata": {},
   "outputs": [
    {
     "name": "stdout",
     "output_type": "stream",
     "text": [
      "362880.0\n"
     ]
    }
   ],
   "source": [
    "print(np.product(arr2))"
   ]
  },
  {
   "cell_type": "code",
   "execution_count": 156,
   "metadata": {},
   "outputs": [
    {
     "name": "stdout",
     "output_type": "stream",
     "text": [
      "45.0\n"
     ]
    }
   ],
   "source": [
    "print(np.sum(arr2))"
   ]
  },
  {
   "cell_type": "code",
   "execution_count": 158,
   "metadata": {},
   "outputs": [
    {
     "name": "stdout",
     "output_type": "stream",
     "text": [
      "[2. 5. 8.]\n"
     ]
    }
   ],
   "source": [
    "print(np.mean(arr2, axis=1))"
   ]
  },
  {
   "cell_type": "code",
   "execution_count": 160,
   "metadata": {},
   "outputs": [],
   "source": [
    "arr1 = np.array([[10,20], [30, 40]], float)\n",
    "arr2 = np.array([[1,2], [3,4]], float)"
   ]
  },
  {
   "cell_type": "code",
   "execution_count": 161,
   "metadata": {},
   "outputs": [
    {
     "name": "stdout",
     "output_type": "stream",
     "text": [
      "[[11. 22.]\n",
      " [33. 44.]]\n"
     ]
    }
   ],
   "source": [
    "print(arr1+arr2)"
   ]
  },
  {
   "cell_type": "code",
   "execution_count": 162,
   "metadata": {},
   "outputs": [
    {
     "name": "stdout",
     "output_type": "stream",
     "text": [
      "[[ 10.  40.]\n",
      " [ 90. 160.]]\n"
     ]
    }
   ],
   "source": [
    "print(arr1*arr2)"
   ]
  },
  {
   "cell_type": "code",
   "execution_count": 165,
   "metadata": {},
   "outputs": [
    {
     "name": "stdout",
     "output_type": "stream",
     "text": [
      "[[0.5 1. ]\n",
      " [1.5 2. ]]\n"
     ]
    }
   ],
   "source": [
    "print(arr2/2)"
   ]
  },
  {
   "cell_type": "code",
   "execution_count": 1,
   "metadata": {},
   "outputs": [
    {
     "data": {
      "text/plain": [
       "'/Users/libintom/Documents/devopslibin/python/numpypandas'"
      ]
     },
     "execution_count": 1,
     "metadata": {},
     "output_type": "execute_result"
    }
   ],
   "source": [
    "pwd"
   ]
  },
  {
   "cell_type": "code",
   "execution_count": 4,
   "metadata": {},
   "outputs": [],
   "source": [
    "import numpy as np"
   ]
  },
  {
   "cell_type": "code",
   "execution_count": 32,
   "metadata": {},
   "outputs": [],
   "source": [
    "corkrain = np.genfromtxt(\"CorkRainfall.txt\", dtype=float, delimiter=\" \")"
   ]
  },
  {
   "cell_type": "code",
   "execution_count": 30,
   "metadata": {},
   "outputs": [],
   "source": [
    "del corkrain"
   ]
  },
  {
   "cell_type": "code",
   "execution_count": 43,
   "metadata": {},
   "outputs": [],
   "source": [
    "avg_rain_cork = np.mean(corkrain[:,[4]])"
   ]
  },
  {
   "cell_type": "code",
   "execution_count": 49,
   "metadata": {},
   "outputs": [
    {
     "name": "stdout",
     "output_type": "stream",
     "text": [
      "The average most Rainfall in a Day :  17.503\n"
     ]
    }
   ],
   "source": [
    "print(\"The average most Rainfall in a Day : \", round(avg_rain_cork,3) )"
   ]
  },
  {
   "cell_type": "code",
   "execution_count": 61,
   "metadata": {},
   "outputs": [
    {
     "name": "stdout",
     "output_type": "stream",
     "text": [
      "[22. 17. 13. 17. 16. 11. 15. 19. 19. 12. 14. 18. 13. 11. 25. 20. 19. 15.\n",
      " 14. 22. 16. 21. 24. 17. 17. 19. 20. 20. 21. 16. 16. 16. 17. 19. 15. 19.\n",
      " 19.  6. 17. 19. 19. 20. 17. 17. 19. 12. 22. 23. 21. 27. 17. 21. 17. 19.\n",
      " 10. 19. 13. 19. 17. 23. 17. 18. 17.  7. 25.  7. 19. 18. 20. 25. 17. 17.\n",
      " 20. 11. 14. 18. 16. 15.  7. 11. 21. 23. 23. 20. 21. 22. 13. 14. 20. 12.\n",
      "  8. 11. 12. 18. 19. 21. 19. 20. 18. 20. 10. 11. 15.  7. 23. 16. 21. 13.\n",
      " 24. 12. 15.  5. 15. 14. 11. 18. 12. 20. 16. 17. 22. 22. 20. 14. 22. 19.\n",
      " 13. 12.  4. 15. 18. 25. 17. 20. 12. 11. 23.  9. 14. 18. 16. 12. 21. 19.\n",
      " 28. 20.  8.  8. 16. 11. 13. 22. 23. 11. 23. 23. 23. 15. 12. 16. 11. 12.\n",
      " 17. 15. 19. 17. 19. 11. 18. 22. 19.  6. 22. 15. 13.  7. 16. 24. 18. 19.\n",
      " 20. 24. 25. 18. 15. 12. 12. 14. 14. 28. 18. 23. 22. 23. 24. 11.  7. 15.\n",
      " 14. 13. 11. 12. 22. 24. 21. 17. 24. 14. 20. 14.  6. 18. 13. 20. 26. 26.\n",
      " 20. 19. 24.  7.  9. 22. 22. 16. 17. 21. 17. 23. 16. 16. 22.  8. 26. 14.\n",
      " 17.  8. 23. 23. 19. 18. 22. 22. 20.  7. 21. 17. 11. 18. 19. 24. 25. 24.\n",
      " 23. 15. 22. 19. 22. 13.  8. 13. 26. 20. 13. 20. 25. 15. 13. 12.  8.  8.\n",
      " 10. 14. 19. 22. 20. 25. 15. 19. 18. 15. 15. 17. 18. 26. 20. 12. 13. 24.\n",
      " 24.  7. 24. 16. 27. 17. 18. 18.  7. 20. 27. 26. 14. 15. 21. 19. 12. 19.\n",
      "  9. 16. 20. 22. 18. 22. 29. 17. 23. 14. 15.  9. 23. 20. 10. 22. 13. 14.\n",
      " 23. 22. 28. 16. 11. 12.  7. 15.  9. 22. 20. 16. 29. 28. 17. 13.  8. 18.\n",
      " 11. 15. 12. 24. 11. 17. 19. 16. 19. 21.  3. 23. 19.  8. 15. 18. 20. 11.\n",
      " 10. 18. 24. 18. 15.  6. 22. 20. 22. 16. 26. 17. 24. 13. 19. 19. 19. 14.\n",
      " 18. 12. 20.  9. 21. 28. 26. 21. 24. 21. 20. 13. 18. 14. 19. 16. 21. 26.\n",
      " 24. 26. 19. 11. 20.  8. 15.  7. 13. 21. 21. 18. 25. 18. 17. 17. 18. 11.\n",
      " 12. 14. 12. 27. 22. 16. 14. 25. 16.  6. 19. 18. 15. 24. 18. 16. 25. 21.\n",
      " 19. 14. 19. 23. 16. 22. 18. 15. 21. 22. 19. 26. 24. 19. 21. 22. 13. 12.\n",
      " 10. 20. 22. 16. 16. 25. 14. 24. 10. 13. 16. 15. 13. 18. 21. 24. 25. 24.\n",
      " 19. 15. 23. 20.  9. 15. 13. 23. 10. 24. 16. 13. 25. 21. 17. 16. 21. 20.\n",
      " 14. 15.  8. 25. 29. 23. 20. 18. 17. 15. 27. 15. 15.  6. 16. 11. 21. 20.\n",
      " 22. 13. 20. 22.  8. 14. 19. 20. 20. 23. 13. 23. 22. 14. 17. 22. 16. 15.\n",
      " 12. 12. 20. 21. 19. 21. 15. 12. 21. 15. 23. 11. 15. 12. 21. 20. 21. 23.\n",
      " 22. 20. 16.  8. 19. 18. 26. 19.  9. 15. 18. 19. 27. 17. 24. 17. 17. 16.\n",
      " 18. 28. 14. 27. 17. 16. 24. 12. 19. 20. 16. 14. 27. 23. 11. 21. 29. 19.\n",
      " 14. 12. 17. 12. 12. 15. 22. 10. 22. 24. 20.  9. 11. 23. 12. 13. 18. 17.\n",
      " 13. 14. 24. 22. 23. 26.  0.]\n"
     ]
    }
   ],
   "source": [
    "most_rainday_cork = corkrain[:,[4]]\n",
    "most_rainday_cork = np.append(most_rainday_cork, [[0]])\n",
    "print(most_rainday_cork)\n"
   ]
  },
  {
   "cell_type": "code",
   "execution_count": 76,
   "metadata": {},
   "outputs": [],
   "source": [
    "most_rainday_cork = np.delete(most_rainday_cork, [-1])\n"
   ]
  },
  {
   "cell_type": "code",
   "execution_count": 77,
   "metadata": {},
   "outputs": [
    {
     "name": "stdout",
     "output_type": "stream",
     "text": [
      "The max most Rainfall in a Day :  3.0\n"
     ]
    }
   ],
   "source": [
    "print(\"The max most Rainfall in a Day : \", min(most_rainday_cork) )"
   ]
  },
  {
   "cell_type": "code",
   "execution_count": 104,
   "metadata": {},
   "outputs": [
    {
     "name": "stdout",
     "output_type": "stream",
     "text": [
      "26.0\n"
     ]
    }
   ],
   "source": [
    "print(most_rainday_cork[-1])"
   ]
  },
  {
   "cell_type": "code",
   "execution_count": 105,
   "metadata": {},
   "outputs": [
    {
     "name": "stdout",
     "output_type": "stream",
     "text": [
      "[[1.962e+03 1.000e+00 1.346e+02 1.250e+01 2.200e+01]\n",
      " [1.962e+03 2.000e+00 7.720e+01 1.120e+01 1.700e+01]\n",
      " [1.962e+03 3.000e+00 7.360e+01 1.340e+01 1.300e+01]\n",
      " ...\n",
      " [2.011e+03 1.000e+01 9.180e+01 2.440e+01 2.200e+01]\n",
      " [2.011e+03 1.100e+01 1.486e+02 3.520e+01 2.300e+01]\n",
      " [2.011e+03 1.200e+01 8.710e+01 2.200e+01 2.600e+01]]\n"
     ]
    }
   ],
   "source": [
    "print(corkrain)"
   ]
  },
  {
   "cell_type": "code",
   "execution_count": 117,
   "metadata": {},
   "outputs": [
    {
     "name": "stdout",
     "output_type": "stream",
     "text": [
      "[[ 0  1  2  3]\n",
      " [ 4  5  6  7]\n",
      " [ 8  9 10 11]]\n",
      "[111   1   2   3]\n",
      "[111   4   4   5]\n",
      "[222   1   2   3]\n",
      "[222   3   4   5]\n"
     ]
    }
   ],
   "source": [
    "a = np.arange(12).reshape((3, 4))\n",
    "print(a)\n",
    "b = np.array([[111, 1, 2, 3], [111, 4, 4, 5], [222, 1, 2, 3], [222, 3, 4, 5]])\n",
    "for e in b: \n",
    "    print(e)"
   ]
  },
  {
   "cell_type": "code",
   "execution_count": 123,
   "metadata": {},
   "outputs": [
    {
     "name": "stdout",
     "output_type": "stream",
     "text": [
      "3\n",
      "5\n"
     ]
    }
   ],
   "source": [
    "num_sum = []\n",
    "for e in b: \n",
    "    if e[0] == 222:\n",
    "        num_sum.append(e[3])\n",
    "        print(e[3])"
   ]
  },
  {
   "cell_type": "code",
   "execution_count": 125,
   "metadata": {},
   "outputs": [
    {
     "name": "stdout",
     "output_type": "stream",
     "text": [
      "8\n"
     ]
    }
   ],
   "source": [
    "print(np.sum(num_sum))"
   ]
  },
  {
   "cell_type": "markdown",
   "metadata": {},
   "source": [
    "most_rainday_cork"
   ]
  }
 ],
 "metadata": {
  "kernelspec": {
   "display_name": "Python 3.10.8 64-bit",
   "language": "python",
   "name": "python3"
  },
  "language_info": {
   "codemirror_mode": {
    "name": "ipython",
    "version": 3
   },
   "file_extension": ".py",
   "mimetype": "text/x-python",
   "name": "python",
   "nbconvert_exporter": "python",
   "pygments_lexer": "ipython3",
   "version": "3.10.8"
  },
  "orig_nbformat": 4,
  "vscode": {
   "interpreter": {
    "hash": "aee8b7b246df8f9039afb4144a1f6fd8d2ca17a180786b69acc140d282b71a49"
   }
  }
 },
 "nbformat": 4,
 "nbformat_minor": 2
}
