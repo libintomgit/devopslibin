{
 "cells": [
  {
   "cell_type": "markdown",
   "metadata": {},
   "source": [
    "# NumPy Lab for Cloud Machine Learning"
   ]
  },
  {
   "cell_type": "markdown",
   "metadata": {},
   "source": [
    "Question 1 <br> Numerical Analysis Exercises using NumPy – Rainfall Dataset:\n",
    "The objective of the exercises is to familiarize yourself with the use of NumPy. These excises are mainly based on rainfall data in Cork for each month over the past half century. In the folder you will find a file called CorkRainfall.txt and a file called DublinRainfall.txt. This is a space delimited file.\n",
    "Each line of the file contains the following precipitation information pertaining to a specific month and year:\n",
    "> Year<br>\n",
    "> Month (1 = Jan, 2 = Feb, 3 = March, etc. ) <br>\n",
    "> Total Rainfall (Millimetres)<br>\n",
    "> Most Rainfall in a Day (Millimetres)<br>\n",
    "> Rain days (0.2mm or More) (Number)<br>"
   ]
  },
  {
   "cell_type": "markdown",
   "metadata": {},
   "source": [
    "## Import the numpy library"
   ]
  },
  {
   "cell_type": "markdown",
   "metadata": {},
   "source": [
    "* Make sure to install the library from the pipy using pip install numpy"
   ]
  },
  {
   "cell_type": "code",
   "execution_count": 2,
   "metadata": {},
   "outputs": [],
   "source": [
    "import numpy as np"
   ]
  },
  {
   "cell_type": "markdown",
   "metadata": {},
   "source": [
    "## Imprt the data to numpy array"
   ]
  },
  {
   "cell_type": "markdown",
   "metadata": {},
   "source": [
    "* Data is copied in the current working directory"
   ]
  },
  {
   "cell_type": "code",
   "execution_count": 3,
   "metadata": {},
   "outputs": [],
   "source": [
    "cork_rain_rawdata = np.genfromtxt(\"CorkRainfall.txt\", dtype=float, delimiter=\" \")"
   ]
  },
  {
   "cell_type": "code",
   "execution_count": 341,
   "metadata": {},
   "outputs": [
    {
     "name": "stdout",
     "output_type": "stream",
     "text": [
      "<class 'numpy.ndarray'>\n"
     ]
    }
   ],
   "source": [
    "print(type(cork_rain_rawdata))"
   ]
  },
  {
   "cell_type": "code",
   "execution_count": 347,
   "metadata": {},
   "outputs": [],
   "source": [
    "del b\n"
   ]
  },
  {
   "cell_type": "code",
   "execution_count": 8,
   "metadata": {},
   "outputs": [
    {
     "name": "stdout",
     "output_type": "stream",
     "text": [
      "[[1.962e+03 1.000e+00 1.346e+02 1.250e+01 2.200e+01]\n",
      " [1.962e+03 2.000e+00 7.720e+01 1.120e+01 1.700e+01]\n",
      " [1.962e+03 3.000e+00 7.360e+01 1.340e+01 1.300e+01]\n",
      " ...\n",
      " [2.011e+03 1.000e+01 9.180e+01 2.440e+01 2.200e+01]\n",
      " [2.011e+03 1.100e+01 1.486e+02 3.520e+01 2.300e+01]\n",
      " [2.011e+03 1.200e+01 8.710e+01 2.200e+01 2.600e+01]]\n",
      "Single element : 1962.0\n"
     ]
    }
   ],
   "source": [
    "print(cork_rain_rawdata)\n",
    "print(\"Single element\", end=\" : \")\n",
    "print(cork_rain_rawdata[0,0])"
   ]
  },
  {
   "cell_type": "markdown",
   "metadata": {},
   "source": [
    "* Print out the max ‘Most Rainfall in a Day’ value and the average ‘Most Rainfall in a Day’ value for the Cork data (that is, obtain the maximum value contained in this column of data and the average value in this column of data)."
   ]
  },
  {
   "cell_type": "code",
   "execution_count": 12,
   "metadata": {},
   "outputs": [],
   "source": [
    "avg_rain_cork = np.mean(cork_rain_rawdata[:,[4]])"
   ]
  },
  {
   "cell_type": "code",
   "execution_count": 13,
   "metadata": {},
   "outputs": [
    {
     "name": "stdout",
     "output_type": "stream",
     "text": [
      "The average most Rainfall in a Day :  17.503\n"
     ]
    }
   ],
   "source": [
    "print(\"The average most Rainfall in a Day : \", round(avg_rain_cork,3) )"
   ]
  },
  {
   "cell_type": "code",
   "execution_count": 14,
   "metadata": {},
   "outputs": [],
   "source": [
    "most_rainday_cork = cork_rain_rawdata[:,[4]]\n",
    "most_rainday_cork = np.append(most_rainday_cork, [[0]])"
   ]
  },
  {
   "cell_type": "code",
   "execution_count": 15,
   "metadata": {},
   "outputs": [
    {
     "name": "stdout",
     "output_type": "stream",
     "text": [
      "The max most Rainfall in a Day :  29.0\n"
     ]
    }
   ],
   "source": [
    "print(\"The max most Rainfall in a Day : \", max(most_rainday_cork) )"
   ]
  },
  {
   "cell_type": "markdown",
   "metadata": {},
   "source": [
    "* Display all unique years for which there is data in the dataset (you can use np.unique) Ask the user to select a specific year and output the total number of Rain Days per month for that year (that is, add up all the total number of Rain Days column for each month of that year)."
   ]
  },
  {
   "cell_type": "code",
   "execution_count": 16,
   "metadata": {},
   "outputs": [],
   "source": [
    "cork_rain_year = cork_rain_rawdata[:, [0]]"
   ]
  },
  {
   "cell_type": "code",
   "execution_count": 18,
   "metadata": {},
   "outputs": [],
   "source": [
    "cork_rain_year_unique = np.unique(cork_rain_year)"
   ]
  },
  {
   "cell_type": "code",
   "execution_count": 19,
   "metadata": {},
   "outputs": [
    {
     "name": "stdout",
     "output_type": "stream",
     "text": [
      "[1962. 1963. 1964. 1965. 1966. 1967. 1968. 1969. 1970. 1971. 1972. 1973.\n",
      " 1974. 1975. 1976. 1977. 1978. 1979. 1980. 1981. 1982. 1983. 1984. 1985.\n",
      " 1986. 1987. 1988. 1989. 1990. 1991. 1992. 1993. 1994. 1995. 1996. 1997.\n",
      " 1998. 1999. 2000. 2001. 2002. 2003. 2004. 2005. 2006. 2007. 2008. 2009.\n",
      " 2010. 2011.]\n"
     ]
    }
   ],
   "source": [
    "print(cork_rain_year_unique)"
   ]
  },
  {
   "cell_type": "code",
   "execution_count": 95,
   "metadata": {},
   "outputs": [],
   "source": [
    "user_year = int(input(f\"Enter the year from {int(cork_rain_year_unique[0])} to {int(cork_rain_year_unique[-1])} : \"))"
   ]
  },
  {
   "cell_type": "code",
   "execution_count": 96,
   "metadata": {},
   "outputs": [
    {
     "name": "stdout",
     "output_type": "stream",
     "text": [
      "[1.981e+03 1.000e+00 4.180e+01 8.400e+00 1.600e+01]\n",
      "[1981.     2.    97.    18.2   16. ]\n",
      "[1981.     3.   213.5   29.    22. ]\n",
      "[1981.     4.    30.3   17.     8. ]\n",
      "[1981.     5.   216.4   30.5   26. ]\n",
      "[1981.     6.    74.1   15.6   14. ]\n",
      "[1981.     7.    36.2   13.8   17. ]\n",
      "[1981.     8.    18.7    7.9    8. ]\n",
      "[1981.     9.   169.1   27.6   23. ]\n",
      "[1981.    10.    79.5   19.1   23. ]\n",
      "[1981.    11.   106.7   21.6   19. ]\n",
      "[1981.    12.   168.5   52.2   18. ]\n"
     ]
    }
   ],
   "source": [
    "user_year_data = []\n",
    "for e in cork_rain_rawdata:\n",
    "    if e[0] == user_year:\n",
    "        print(e)\n",
    "        user_year_data.append(e[4])\n"
   ]
  },
  {
   "cell_type": "code",
   "execution_count": 97,
   "metadata": {},
   "outputs": [
    {
     "name": "stdout",
     "output_type": "stream",
     "text": [
      "Total number of Rain Days of 1981 is 210.0 days.\n"
     ]
    }
   ],
   "source": [
    "print(f\"Total number of Rain Days of {user_year} is {np.sum(user_year_data)} days.\")"
   ]
  },
  {
   "cell_type": "markdown",
   "metadata": {},
   "source": [
    "* Calculate the wettest month of the year in Cork based on the “Total Rainfall” value. The month that has the highest cumulative “Total Rainfall” value across all years should be classified as the wettest. Your code should print out the month and the cumulative total rainfall value for that month."
   ]
  },
  {
   "cell_type": "code",
   "execution_count": 100,
   "metadata": {},
   "outputs": [],
   "source": [
    "most_total_rainfall = cork_rain_rawdata[:, 2]"
   ]
  },
  {
   "cell_type": "code",
   "execution_count": 121,
   "metadata": {},
   "outputs": [],
   "source": [
    "months = {1:\"Jan\", 2:\"Feb\", 3:\"Mar\", 4:\"Apr\", 5:\"May\", 6:\"June\", 7:\"Jul\", 8:\"Aug\", 9:\"Sep\", 10:\"Oct\", 11:\"Nov\", 12:\"Dec\" }"
   ]
  },
  {
   "cell_type": "code",
   "execution_count": 125,
   "metadata": {},
   "outputs": [
    {
     "name": "stdout",
     "output_type": "stream",
     "text": [
      "The most raifall is in the Jan month of year 1974. A total of 340.9 Millimetres Rainfall.\n"
     ]
    }
   ],
   "source": [
    "for e in cork_rain_rawdata:\n",
    "    if e[2] == max(most_total_rainfall):\n",
    "        print(f\"The most raifall is in the {months[e[1]]} month of year {int(e[0])}. A total of {e[2]} Millimetres Rainfall.\")"
   ]
  },
  {
   "cell_type": "markdown",
   "metadata": {},
   "source": [
    "* This question focuses on the Number of Rain days column. The user is asked to enter\n",
    "a maximum threshold value for the number of rain days. Your code should then\n",
    "output the percentage of the time (percentage of rows in the dataset) where the\n",
    "number of rain days is less than or equal to the threshold value.For example, if a user enters a maximum threshold value of 6, then your code should\n",
    "output the percentage of rows where the number of rain days fell between the threshold value of 6."
   ]
  },
  {
   "cell_type": "code",
   "execution_count": 202,
   "metadata": {},
   "outputs": [],
   "source": [
    "user_imp = int(input(\"Enter the threshold value to analyse the data: \"))"
   ]
  },
  {
   "cell_type": "code",
   "execution_count": 132,
   "metadata": {},
   "outputs": [
    {
     "name": "stdout",
     "output_type": "stream",
     "text": [
      "7\n"
     ]
    }
   ],
   "source": [
    "print(user_imp)"
   ]
  },
  {
   "cell_type": "code",
   "execution_count": 203,
   "metadata": {},
   "outputs": [],
   "source": [
    "cork_rain_days = cork_rain_rawdata[:,4]"
   ]
  },
  {
   "cell_type": "code",
   "execution_count": 139,
   "metadata": {},
   "outputs": [
    {
     "name": "stdout",
     "output_type": "stream",
     "text": [
      "600\n"
     ]
    }
   ],
   "source": [
    "print(len(cork_rain_days))"
   ]
  },
  {
   "cell_type": "code",
   "execution_count": 204,
   "metadata": {},
   "outputs": [],
   "source": [
    "threshol_filter = cork_rain_days <= user_imp"
   ]
  },
  {
   "cell_type": "code",
   "execution_count": 205,
   "metadata": {},
   "outputs": [],
   "source": [
    "cork_rain_days_threshold = np.array(cork_rain_days[threshol_filter])"
   ]
  },
  {
   "cell_type": "code",
   "execution_count": 209,
   "metadata": {},
   "outputs": [
    {
     "name": "stdout",
     "output_type": "stream",
     "text": [
      "326\n"
     ]
    }
   ],
   "source": [
    "print(len(cork_rain_days_threshold))"
   ]
  },
  {
   "cell_type": "code",
   "execution_count": 208,
   "metadata": {},
   "outputs": [
    {
     "name": "stdout",
     "output_type": "stream",
     "text": [
      "There is 54.33 % Rain Days between the threshold of 18 Rain days.\n"
     ]
    }
   ],
   "source": [
    "print(f\"There is {round(len(cork_rain_days_threshold)/len(cork_rain_days)*100,2)} % Rain Days between the threshold of {user_imp} Rain days.\")"
   ]
  },
  {
   "cell_type": "markdown",
   "metadata": {},
   "source": [
    "* Calculate the average ‘total rainfall’ value for the summer months (June, July and August) and the Autumn months (Sept, Oct, Nov).\n"
   ]
  },
  {
   "cell_type": "code",
   "execution_count": 281,
   "metadata": {},
   "outputs": [],
   "source": [
    "all_summer_rainfall = []\n",
    "for e in cork_rain_rawdata:\n",
    "    if e[1] == 6:\n",
    "        all_summer_rainfall.append(e[2])\n",
    "    elif e[1] == 7:\n",
    "        all_summer_rainfall.append(e[2])\n",
    "    elif e[1] == 8:\n",
    "        all_summer_rainfall.append(e[2])\n"
   ]
  },
  {
   "cell_type": "code",
   "execution_count": 282,
   "metadata": {},
   "outputs": [],
   "source": [
    "all_autumn_rainfall = []\n",
    "for e in cork_rain_rawdata:\n",
    "    if e[1] == 9:\n",
    "        all_autumn_rainfall.append(e[2])\n",
    "    elif e[1] == 10:\n",
    "        all_autumn_rainfall.append(e[2])\n",
    "    elif e[1] == 11:\n",
    "        all_autumn_rainfall.append(e[2])"
   ]
  },
  {
   "cell_type": "code",
   "execution_count": 357,
   "metadata": {},
   "outputs": [
    {
     "name": "stdout",
     "output_type": "stream",
     "text": [
      "<class 'numpy.ndarray'>\n"
     ]
    }
   ],
   "source": [
    "all_autumn_rainfall = np.array(all_autumn_rainfall)"
   ]
  },
  {
   "cell_type": "code",
   "execution_count": 356,
   "metadata": {},
   "outputs": [
    {
     "name": "stdout",
     "output_type": "stream",
     "text": [
      "The average rainfall from 1962 to 2011 (50 years) for the Summer months are 80.04 millimetres and Autumn months are 114.46 millimetres\n"
     ]
    }
   ],
   "source": [
    "print(f\"The average rainfall from {int(cork_rain_year_unique[0])} to {int(cork_rain_year_unique[-1])} ({len(cork_rain_year_unique)} years) for the Summer months are {round(np.mean(all_summer_rainfall),2)} millimetres and Autumn months are {round(np.mean(all_autumn_rainfall),2)} millimetres\")"
   ]
  },
  {
   "cell_type": "markdown",
   "metadata": {},
   "source": [
    "* Read in the contents of the file DublinRainfall.txt into a NumPy array. Append the all rows from the Dublin array to the Cork NumPy array. Calculate the average number\n",
    "of raindays for the new array and write the new NumPy array to a CSV file."
   ]
  },
  {
   "cell_type": "code",
   "execution_count": 313,
   "metadata": {},
   "outputs": [],
   "source": [
    "dublin_rain_rawdata = np.genfromtxt(\"DublinRainfall.txt\", dtype=float, delimiter=\" \")"
   ]
  },
  {
   "cell_type": "code",
   "execution_count": 314,
   "metadata": {},
   "outputs": [
    {
     "name": "stdout",
     "output_type": "stream",
     "text": [
      "[[1.962e+03 1.000e+00 4.110e+01 7.100e+00 1.600e+01]\n",
      " [1.962e+03 2.000e+00 2.670e+01 5.700e+00 1.400e+01]\n",
      " [1.962e+03 3.000e+00 5.360e+01 1.510e+01 1.300e+01]\n",
      " ...\n",
      " [2.011e+03 1.000e+01 1.474e+02 7.130e+01 1.800e+01]\n",
      " [2.011e+03 1.100e+01 4.850e+01 1.170e+01 1.100e+01]\n",
      " [2.011e+03 1.200e+01 5.220e+01 5.200e+00 2.300e+01]]\n"
     ]
    }
   ],
   "source": [
    "print(dublin_rain_rawdata)"
   ]
  },
  {
   "cell_type": "code",
   "execution_count": 332,
   "metadata": {},
   "outputs": [],
   "source": [
    "dublin_cork_rain_rawdata = np.append(cork_rain_rawdata,dublin_rain_rawdata,axis=0)\n"
   ]
  },
  {
   "cell_type": "code",
   "execution_count": 335,
   "metadata": {},
   "outputs": [
    {
     "name": "stdout",
     "output_type": "stream",
     "text": [
      "1200\n"
     ]
    }
   ],
   "source": [
    "print(len(dublin_cork_rain_rawdata))"
   ]
  },
  {
   "cell_type": "code",
   "execution_count": 340,
   "metadata": {},
   "outputs": [
    {
     "name": "stdout",
     "output_type": "stream",
     "text": [
      "The average rain day for Dublin and Cork is 16.7\n"
     ]
    }
   ],
   "source": [
    "print(f\"The average rain day for Dublin and Cork is {round(np.mean(dublin_cork_rain_rawdata[:,4]),2)}\")"
   ]
  }
 ],
 "metadata": {
  "kernelspec": {
   "display_name": "Python 3.10.8 64-bit",
   "language": "python",
   "name": "python3"
  },
  "language_info": {
   "codemirror_mode": {
    "name": "ipython",
    "version": 3
   },
   "file_extension": ".py",
   "mimetype": "text/x-python",
   "name": "python",
   "nbconvert_exporter": "python",
   "pygments_lexer": "ipython3",
   "version": "3.10.8"
  },
  "orig_nbformat": 4,
  "vscode": {
   "interpreter": {
    "hash": "aee8b7b246df8f9039afb4144a1f6fd8d2ca17a180786b69acc140d282b71a49"
   }
  }
 },
 "nbformat": 4,
 "nbformat_minor": 2
}
